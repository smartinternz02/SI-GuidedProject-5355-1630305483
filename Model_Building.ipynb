{
 "cells": [
  {
   "cell_type": "code",
   "execution_count": 1,
   "metadata": {},
   "outputs": [],
   "source": [
    "from tensorflow.keras.models import Sequential\n",
    "from tensorflow.keras.layers import Dense, Convolution2D, MaxPooling2D, Flatten\n",
    "from tensorflow.keras.preprocessing.image import ImageDataGenerator"
   ]
  },
  {
   "cell_type": "code",
   "execution_count": 2,
   "metadata": {},
   "outputs": [],
   "source": [
    "train_datagen = ImageDataGenerator(rescale= 1./255, shear_range = 0.2, zoom_range = 0.2, horizontal_flip = True)\n",
    "test_datagen = ImageDataGenerator(rescale= 1./255)"
   ]
  },
  {
   "cell_type": "code",
   "execution_count": 3,
   "metadata": {},
   "outputs": [
    {
     "name": "stdout",
     "output_type": "stream",
     "text": [
      "Found 993 images belonging to 3 classes.\n",
      "Found 353 images belonging to 3 classes.\n"
     ]
    }
   ],
   "source": [
    "x_train = train_datagen.flow_from_directory(r\"dataset\\train_set\", target_size = (64,64), batch_size= 32, class_mode = \"categorical\")\n",
    "x_test = test_datagen.flow_from_directory(r\"dataset\\test_set\", target_size = (64,64), batch_size= 32, class_mode = \"categorical\")"
   ]
  },
  {
   "cell_type": "code",
   "execution_count": 4,
   "metadata": {},
   "outputs": [],
   "source": [
    "cnn = Sequential()"
   ]
  },
  {
   "cell_type": "code",
   "execution_count": 5,
   "metadata": {},
   "outputs": [
    {
     "name": "stdout",
     "output_type": "stream",
     "text": [
      "WARNING:tensorflow:From C:\\Users\\sahar\\Anaconda3\\lib\\site-packages\\tensorflow\\python\\ops\\init_ops.py:1251: calling VarianceScaling.__init__ (from tensorflow.python.ops.init_ops) with dtype is deprecated and will be removed in a future version.\n",
      "Instructions for updating:\n",
      "Call initializer instance with the dtype argument instead of passing it to the constructor\n"
     ]
    }
   ],
   "source": [
    "cnn.add(Convolution2D(32, (3,3), input_shape=(64,64, 3)))\n",
    "cnn.add(MaxPooling2D((2,2)))"
   ]
  },
  {
   "cell_type": "code",
   "execution_count": 6,
   "metadata": {},
   "outputs": [],
   "source": [
    "cnn.add(Flatten())"
   ]
  },
  {
   "cell_type": "code",
   "execution_count": 7,
   "metadata": {},
   "outputs": [
    {
     "name": "stdout",
     "output_type": "stream",
     "text": [
      "WARNING:tensorflow:From C:\\Users\\sahar\\Anaconda3\\lib\\site-packages\\tensorflow\\python\\keras\\initializers.py:119: calling RandomUniform.__init__ (from tensorflow.python.ops.init_ops) with dtype is deprecated and will be removed in a future version.\n",
      "Instructions for updating:\n",
      "Call initializer instance with the dtype argument instead of passing it to the constructor\n"
     ]
    }
   ],
   "source": [
    "cnn.add(Dense(units = 128 , kernel_initializer = \"random_uniform\", activation = \"relu\"))\n",
    "cnn.add(Dense(units = 128 , kernel_initializer = \"random_uniform\", activation = \"relu\"))"
   ]
  },
  {
   "cell_type": "code",
   "execution_count": 8,
   "metadata": {},
   "outputs": [],
   "source": [
    "cnn.add(Dense(units = 3 , kernel_initializer = \"random_uniform\", activation = \"softmax\"))"
   ]
  },
  {
   "cell_type": "code",
   "execution_count": 9,
   "metadata": {},
   "outputs": [],
   "source": [
    "cnn.compile(optimizer = \"rmsprop\", loss = \"categorical_crossentropy\", metrics = [\"accuracy\"])"
   ]
  },
  {
   "cell_type": "code",
   "execution_count": 10,
   "metadata": {},
   "outputs": [
    {
     "name": "stdout",
     "output_type": "stream",
     "text": [
      "Epoch 1/110\n",
      "32/31 [==============================] - 9s 288ms/step - loss: 1.1978 - acc: 0.3625 - val_loss: 1.0964 - val_acc: 0.4816\n",
      "Epoch 2/110\n",
      "32/31 [==============================] - 11s 329ms/step - loss: 1.0379 - acc: 0.4632 - val_loss: 1.0037 - val_acc: 0.5439\n",
      "Epoch 3/110\n",
      "32/31 [==============================] - 12s 381ms/step - loss: 0.9283 - acc: 0.5559 - val_loss: 0.8996 - val_acc: 0.5949\n",
      "Epoch 4/110\n",
      "32/31 [==============================] - 8s 260ms/step - loss: 0.8830 - acc: 0.5841 - val_loss: 0.9738 - val_acc: 0.6176\n",
      "Epoch 5/110\n",
      "32/31 [==============================] - 7s 221ms/step - loss: 0.8002 - acc: 0.6183 - val_loss: 1.0656 - val_acc: 0.6006\n",
      "Epoch 6/110\n",
      "32/31 [==============================] - 9s 269ms/step - loss: 0.7725 - acc: 0.6616 - val_loss: 0.8976 - val_acc: 0.6856\n",
      "Epoch 7/110\n",
      "32/31 [==============================] - 14s 444ms/step - loss: 0.7024 - acc: 0.6828 - val_loss: 0.8991 - val_acc: 0.6742\n",
      "Epoch 8/110\n",
      "32/31 [==============================] - 6s 200ms/step - loss: 0.6822 - acc: 0.7231 - val_loss: 1.1478 - val_acc: 0.6147\n",
      "Epoch 9/110\n",
      "32/31 [==============================] - 17s 539ms/step - loss: 0.6312 - acc: 0.7362 - val_loss: 0.9638 - val_acc: 0.6459\n",
      "Epoch 10/110\n",
      "32/31 [==============================] - 12s 361ms/step - loss: 0.5786 - acc: 0.7472 - val_loss: 0.9106 - val_acc: 0.6884\n",
      "Epoch 11/110\n",
      "32/31 [==============================] - 10s 321ms/step - loss: 0.5357 - acc: 0.7573 - val_loss: 0.8993 - val_acc: 0.6912\n",
      "Epoch 12/110\n",
      "32/31 [==============================] - 10s 307ms/step - loss: 0.5380 - acc: 0.7795 - val_loss: 0.9412 - val_acc: 0.7139\n",
      "Epoch 13/110\n",
      "32/31 [==============================] - 9s 290ms/step - loss: 0.4787 - acc: 0.7865 - val_loss: 0.8486 - val_acc: 0.7280\n",
      "Epoch 14/110\n",
      "32/31 [==============================] - 11s 339ms/step - loss: 0.4905 - acc: 0.8097 - val_loss: 1.1918 - val_acc: 0.6912\n",
      "Epoch 15/110\n",
      "32/31 [==============================] - 11s 334ms/step - loss: 0.4354 - acc: 0.8157 - val_loss: 0.8629 - val_acc: 0.7139\n",
      "Epoch 16/110\n",
      "32/31 [==============================] - 9s 266ms/step - loss: 0.4253 - acc: 0.8268 - val_loss: 0.9292 - val_acc: 0.6969\n",
      "Epoch 17/110\n",
      "32/31 [==============================] - 10s 300ms/step - loss: 0.3672 - acc: 0.8419 - val_loss: 7.2245 - val_acc: 0.7025\n",
      "Epoch 18/110\n",
      "32/31 [==============================] - 10s 318ms/step - loss: 0.3586 - acc: 0.8419 - val_loss: 1.1386 - val_acc: 0.6969\n",
      "Epoch 19/110\n",
      "32/31 [==============================] - 9s 282ms/step - loss: 0.3520 - acc: 0.8802 - val_loss: 1.2533 - val_acc: 0.7195\n",
      "Epoch 20/110\n",
      "32/31 [==============================] - 13s 416ms/step - loss: 0.5150 - acc: 0.8550 - val_loss: 0.9645 - val_acc: 0.7167\n",
      "Epoch 21/110\n",
      "32/31 [==============================] - 10s 305ms/step - loss: 0.2365 - acc: 0.9084 - val_loss: 1.2534 - val_acc: 0.7139\n",
      "Epoch 22/110\n",
      "32/31 [==============================] - 13s 410ms/step - loss: 0.2925 - acc: 0.8832 - val_loss: 1.1823 - val_acc: 0.7195\n",
      "Epoch 23/110\n",
      "32/31 [==============================] - 10s 325ms/step - loss: 0.3100 - acc: 0.8771 - val_loss: 1.3351 - val_acc: 0.7167\n",
      "Epoch 24/110\n",
      "32/31 [==============================] - 12s 381ms/step - loss: 0.2508 - acc: 0.9084 - val_loss: 1.1739 - val_acc: 0.7309\n",
      "Epoch 25/110\n",
      "32/31 [==============================] - 9s 277ms/step - loss: 0.2905 - acc: 0.8933 - val_loss: 1.1364 - val_acc: 0.7309\n",
      "Epoch 26/110\n",
      "32/31 [==============================] - 10s 326ms/step - loss: 0.2220 - acc: 0.9104 - val_loss: 1.0762 - val_acc: 0.7337\n",
      "Epoch 27/110\n",
      "32/31 [==============================] - 10s 299ms/step - loss: 0.2350 - acc: 0.9225 - val_loss: 1.3538 - val_acc: 0.7139\n",
      "Epoch 28/110\n",
      "32/31 [==============================] - 9s 290ms/step - loss: 0.1785 - acc: 0.9335 - val_loss: 1.0734 - val_acc: 0.7564\n",
      "Epoch 29/110\n",
      "32/31 [==============================] - 9s 282ms/step - loss: 0.1971 - acc: 0.9305 - val_loss: 1.5577 - val_acc: 0.7110\n",
      "Epoch 30/110\n",
      "32/31 [==============================] - 12s 366ms/step - loss: 0.1564 - acc: 0.9366 - val_loss: 1.4118 - val_acc: 0.7280\n",
      "Epoch 31/110\n",
      "32/31 [==============================] - 8s 254ms/step - loss: 0.1707 - acc: 0.9386 - val_loss: 1.5215 - val_acc: 0.7025\n",
      "Epoch 32/110\n",
      "32/31 [==============================] - 6s 180ms/step - loss: 0.1719 - acc: 0.9416 - val_loss: 1.3278 - val_acc: 0.7224\n",
      "Epoch 33/110\n",
      "32/31 [==============================] - 5s 167ms/step - loss: 0.1733 - acc: 0.9517 - val_loss: 1.5061 - val_acc: 0.7337\n",
      "Epoch 34/110\n",
      "32/31 [==============================] - 5s 158ms/step - loss: 0.1557 - acc: 0.9496 - val_loss: 1.5628 - val_acc: 0.7280\n",
      "Epoch 35/110\n",
      "32/31 [==============================] - 5s 148ms/step - loss: 0.1283 - acc: 0.9577 - val_loss: 1.2879 - val_acc: 0.7337\n",
      "Epoch 36/110\n",
      "32/31 [==============================] - 6s 187ms/step - loss: 0.1776 - acc: 0.9416 - val_loss: 1.6256 - val_acc: 0.7025\n",
      "Epoch 37/110\n",
      "32/31 [==============================] - 5s 155ms/step - loss: 0.2008 - acc: 0.9315 - val_loss: 1.6460 - val_acc: 0.7280\n",
      "Epoch 38/110\n",
      "32/31 [==============================] - 5s 160ms/step - loss: 0.1209 - acc: 0.9577 - val_loss: 1.7203 - val_acc: 0.7139\n",
      "Epoch 39/110\n",
      "32/31 [==============================] - 5s 162ms/step - loss: 0.1117 - acc: 0.9648 - val_loss: 1.7656 - val_acc: 0.7224\n",
      "Epoch 40/110\n",
      "32/31 [==============================] - 5s 151ms/step - loss: 0.1510 - acc: 0.9446 - val_loss: 1.9713 - val_acc: 0.7054\n",
      "Epoch 41/110\n",
      "32/31 [==============================] - 5s 161ms/step - loss: 0.1334 - acc: 0.9577 - val_loss: 1.8125 - val_acc: 0.7167\n",
      "Epoch 42/110\n",
      "32/31 [==============================] - 5s 149ms/step - loss: 0.1043 - acc: 0.9637 - val_loss: 3.0512 - val_acc: 0.7280\n",
      "Epoch 43/110\n",
      "32/31 [==============================] - 5s 149ms/step - loss: 0.1508 - acc: 0.9607 - val_loss: 2.0887 - val_acc: 0.7337\n",
      "Epoch 44/110\n",
      "32/31 [==============================] - 5s 166ms/step - loss: 0.1292 - acc: 0.9537 - val_loss: 1.8813 - val_acc: 0.7422\n",
      "Epoch 45/110\n",
      "32/31 [==============================] - 8s 251ms/step - loss: 0.0612 - acc: 0.9849 - val_loss: 1.6862 - val_acc: 0.7564\n",
      "Epoch 46/110\n",
      "32/31 [==============================] - 6s 200ms/step - loss: 0.0949 - acc: 0.9668 - val_loss: 1.9747 - val_acc: 0.7309\n",
      "Epoch 47/110\n",
      "32/31 [==============================] - 7s 214ms/step - loss: 0.2746 - acc: 0.9456 - val_loss: 1.9919 - val_acc: 0.7394\n",
      "Epoch 48/110\n",
      "32/31 [==============================] - 5s 159ms/step - loss: 0.0719 - acc: 0.9758 - val_loss: 3.0421 - val_acc: 0.7620\n",
      "Epoch 49/110\n",
      "32/31 [==============================] - 6s 180ms/step - loss: 0.1170 - acc: 0.9557 - val_loss: 3.0179 - val_acc: 0.7337\n",
      "Epoch 50/110\n",
      "32/31 [==============================] - 5s 163ms/step - loss: 0.0733 - acc: 0.9758 - val_loss: 3.2190 - val_acc: 0.7620\n",
      "Epoch 51/110\n",
      "32/31 [==============================] - 6s 179ms/step - loss: 0.1205 - acc: 0.9627 - val_loss: 2.5296 - val_acc: 0.6516\n",
      "Epoch 52/110\n",
      "32/31 [==============================] - 6s 172ms/step - loss: 0.0547 - acc: 0.9768 - val_loss: 2.1845 - val_acc: 0.7592\n",
      "Epoch 53/110\n",
      "32/31 [==============================] - 6s 177ms/step - loss: 0.1166 - acc: 0.9567 - val_loss: 14.4981 - val_acc: 0.7280\n",
      "Epoch 54/110\n",
      "32/31 [==============================] - 7s 213ms/step - loss: 0.0647 - acc: 0.9758 - val_loss: 3.5661 - val_acc: 0.7450\n",
      "Epoch 55/110\n",
      "32/31 [==============================] - 7s 217ms/step - loss: 0.1278 - acc: 0.9678 - val_loss: 2.5743 - val_acc: 0.7224\n",
      "Epoch 56/110\n",
      "32/31 [==============================] - 9s 296ms/step - loss: 0.0909 - acc: 0.9708 - val_loss: 1.9260 - val_acc: 0.7564\n",
      "Epoch 57/110\n",
      "32/31 [==============================] - 6s 172ms/step - loss: 0.0867 - acc: 0.9789 - val_loss: 2.2125 - val_acc: 0.7535\n",
      "Epoch 58/110\n",
      "32/31 [==============================] - 10s 301ms/step - loss: 0.1367 - acc: 0.9678 - val_loss: 2.1219 - val_acc: 0.7450\n",
      "Epoch 59/110\n",
      "32/31 [==============================] - 5s 166ms/step - loss: 0.0620 - acc: 0.9758 - val_loss: 2.5295 - val_acc: 0.7337\n",
      "Epoch 60/110\n",
      "32/31 [==============================] - 6s 181ms/step - loss: 0.0658 - acc: 0.9799 - val_loss: 2.8451 - val_acc: 0.6912\n",
      "Epoch 61/110\n",
      "32/31 [==============================] - 7s 223ms/step - loss: 0.0639 - acc: 0.9748 - val_loss: 2.3958 - val_acc: 0.7110\n",
      "Epoch 62/110\n"
     ]
    },
    {
     "name": "stdout",
     "output_type": "stream",
     "text": [
      "32/31 [==============================] - 5s 166ms/step - loss: 0.0851 - acc: 0.9778 - val_loss: 4.9219 - val_acc: 0.6544\n",
      "Epoch 63/110\n",
      "32/31 [==============================] - 6s 173ms/step - loss: 0.0660 - acc: 0.9778 - val_loss: 2.5721 - val_acc: 0.7280\n",
      "Epoch 64/110\n",
      "32/31 [==============================] - 5s 169ms/step - loss: 0.0606 - acc: 0.9799 - val_loss: 2.5844 - val_acc: 0.7280\n",
      "Epoch 65/110\n",
      "32/31 [==============================] - 6s 174ms/step - loss: 0.1482 - acc: 0.9658 - val_loss: 2.7892 - val_acc: 0.6941\n",
      "Epoch 66/110\n",
      "32/31 [==============================] - 5s 163ms/step - loss: 0.0792 - acc: 0.9748 - val_loss: 2.4528 - val_acc: 0.7762\n",
      "Epoch 67/110\n",
      "32/31 [==============================] - 5s 165ms/step - loss: 0.0540 - acc: 0.9829 - val_loss: 2.6780 - val_acc: 0.7507\n",
      "Epoch 68/110\n",
      "32/31 [==============================] - 5s 169ms/step - loss: 0.0427 - acc: 0.9879 - val_loss: 2.3846 - val_acc: 0.7592\n",
      "Epoch 69/110\n",
      "32/31 [==============================] - 5s 160ms/step - loss: 0.0751 - acc: 0.9758 - val_loss: 2.6164 - val_acc: 0.7252\n",
      "Epoch 70/110\n",
      "32/31 [==============================] - 6s 172ms/step - loss: 0.0649 - acc: 0.9809 - val_loss: 2.7932 - val_acc: 0.7535\n",
      "Epoch 71/110\n",
      "32/31 [==============================] - 5s 162ms/step - loss: 0.0640 - acc: 0.9768 - val_loss: 4.0397 - val_acc: 0.7564\n",
      "Epoch 72/110\n",
      "32/31 [==============================] - 5s 171ms/step - loss: 0.0846 - acc: 0.9789 - val_loss: 3.8630 - val_acc: 0.7422\n",
      "Epoch 73/110\n",
      "32/31 [==============================] - 5s 167ms/step - loss: 0.1360 - acc: 0.9607 - val_loss: 3.3565 - val_acc: 0.7677\n",
      "Epoch 74/110\n",
      "32/31 [==============================] - 7s 209ms/step - loss: 0.0372 - acc: 0.9909 - val_loss: 3.2646 - val_acc: 0.7422\n",
      "Epoch 75/110\n",
      "32/31 [==============================] - 6s 184ms/step - loss: 0.0609 - acc: 0.9859 - val_loss: 6.0488 - val_acc: 0.5666\n",
      "Epoch 76/110\n",
      "32/31 [==============================] - 6s 185ms/step - loss: 0.0664 - acc: 0.9789 - val_loss: 3.7254 - val_acc: 0.7394\n",
      "Epoch 77/110\n",
      "32/31 [==============================] - 5s 172ms/step - loss: 0.0796 - acc: 0.9789 - val_loss: 2.9540 - val_acc: 0.7479\n",
      "Epoch 78/110\n",
      "32/31 [==============================] - 10s 301ms/step - loss: 0.0679 - acc: 0.9829 - val_loss: 3.0688 - val_acc: 0.7394\n",
      "Epoch 79/110\n",
      "32/31 [==============================] - 6s 190ms/step - loss: 0.0545 - acc: 0.9758 - val_loss: 2.4900 - val_acc: 0.7224\n",
      "Epoch 80/110\n",
      "32/31 [==============================] - 8s 235ms/step - loss: 0.0270 - acc: 0.9899 - val_loss: 2.3809 - val_acc: 0.7677\n",
      "Epoch 81/110\n",
      "32/31 [==============================] - 5s 165ms/step - loss: 0.1259 - acc: 0.9768 - val_loss: 2.6645 - val_acc: 0.7450\n",
      "Epoch 82/110\n",
      "32/31 [==============================] - 6s 188ms/step - loss: 0.0638 - acc: 0.9849 - val_loss: 2.6377 - val_acc: 0.7592\n",
      "Epoch 83/110\n",
      "32/31 [==============================] - 6s 176ms/step - loss: 0.0319 - acc: 0.9919 - val_loss: 3.6625 - val_acc: 0.7309\n",
      "Epoch 84/110\n",
      "32/31 [==============================] - 6s 180ms/step - loss: 0.0799 - acc: 0.9748 - val_loss: 2.7491 - val_acc: 0.7422\n",
      "Epoch 85/110\n",
      "32/31 [==============================] - 6s 184ms/step - loss: 0.0133 - acc: 0.9970 - val_loss: 2.9354 - val_acc: 0.7762\n",
      "Epoch 86/110\n",
      "32/31 [==============================] - 6s 178ms/step - loss: 0.0651 - acc: 0.9809 - val_loss: 2.6263 - val_acc: 0.7394\n",
      "Epoch 87/110\n",
      "32/31 [==============================] - 5s 153ms/step - loss: 0.0561 - acc: 0.9859 - val_loss: 3.4046 - val_acc: 0.7337\n",
      "Epoch 88/110\n",
      "32/31 [==============================] - 5s 152ms/step - loss: 0.0562 - acc: 0.9839 - val_loss: 3.6827 - val_acc: 0.7394\n",
      "Epoch 89/110\n",
      "32/31 [==============================] - 5s 147ms/step - loss: 0.0844 - acc: 0.9799 - val_loss: 3.5856 - val_acc: 0.7365\n",
      "Epoch 90/110\n",
      "32/31 [==============================] - 5s 150ms/step - loss: 0.0231 - acc: 0.9940 - val_loss: 3.2573 - val_acc: 0.7564\n",
      "Epoch 91/110\n",
      "32/31 [==============================] - 5s 147ms/step - loss: 0.0519 - acc: 0.9879 - val_loss: 4.1086 - val_acc: 0.7535\n",
      "Epoch 92/110\n",
      "32/31 [==============================] - 5s 149ms/step - loss: 0.0350 - acc: 0.9859 - val_loss: 3.2439 - val_acc: 0.7195\n",
      "Epoch 93/110\n",
      "32/31 [==============================] - 5s 148ms/step - loss: 0.0432 - acc: 0.9849 - val_loss: 6.0938 - val_acc: 0.7054\n",
      "Epoch 94/110\n",
      "32/31 [==============================] - 5s 151ms/step - loss: 0.0784 - acc: 0.9799 - val_loss: 4.9197 - val_acc: 0.7564\n",
      "Epoch 95/110\n",
      "32/31 [==============================] - 5s 148ms/step - loss: 0.0468 - acc: 0.9869 - val_loss: 3.0242 - val_acc: 0.7592\n",
      "Epoch 96/110\n",
      "32/31 [==============================] - 5s 150ms/step - loss: 0.0435 - acc: 0.9819 - val_loss: 3.9670 - val_acc: 0.7365\n",
      "Epoch 97/110\n",
      "32/31 [==============================] - 5s 153ms/step - loss: 0.0491 - acc: 0.9819 - val_loss: 3.5149 - val_acc: 0.7394\n",
      "Epoch 98/110\n",
      "32/31 [==============================] - 6s 174ms/step - loss: 0.0538 - acc: 0.9879 - val_loss: 4.2168 - val_acc: 0.7592\n",
      "Epoch 99/110\n",
      "32/31 [==============================] - 5s 161ms/step - loss: 0.0472 - acc: 0.9829 - val_loss: 3.6150 - val_acc: 0.7592\n",
      "Epoch 100/110\n",
      "32/31 [==============================] - 6s 197ms/step - loss: 0.0210 - acc: 0.9919 - val_loss: 3.0577 - val_acc: 0.7677\n",
      "Epoch 101/110\n",
      "32/31 [==============================] - 5s 152ms/step - loss: 0.0484 - acc: 0.9909 - val_loss: 2.9022 - val_acc: 0.7649\n",
      "Epoch 102/110\n",
      "32/31 [==============================] - 6s 181ms/step - loss: 0.0454 - acc: 0.9849 - val_loss: 3.3145 - val_acc: 0.7309\n",
      "Epoch 103/110\n",
      "32/31 [==============================] - 5s 163ms/step - loss: 0.0548 - acc: 0.9869 - val_loss: 3.1529 - val_acc: 0.7705\n",
      "Epoch 104/110\n",
      "32/31 [==============================] - 5s 152ms/step - loss: 0.0307 - acc: 0.9919 - val_loss: 3.4600 - val_acc: 0.7535\n",
      "Epoch 105/110\n",
      "32/31 [==============================] - 5s 147ms/step - loss: 0.0537 - acc: 0.9839 - val_loss: 3.3821 - val_acc: 0.7365\n",
      "Epoch 106/110\n",
      "32/31 [==============================] - 6s 178ms/step - loss: 0.0572 - acc: 0.9849 - val_loss: 2.6630 - val_acc: 0.7564\n",
      "Epoch 107/110\n",
      "32/31 [==============================] - 5s 154ms/step - loss: 0.0525 - acc: 0.9869 - val_loss: 3.2119 - val_acc: 0.7450\n",
      "Epoch 108/110\n",
      "32/31 [==============================] - 5s 141ms/step - loss: 0.0424 - acc: 0.9899 - val_loss: 2.4158 - val_acc: 0.7592\n",
      "Epoch 109/110\n",
      "32/31 [==============================] - 5s 150ms/step - loss: 0.0871 - acc: 0.9819 - val_loss: 2.8374 - val_acc: 0.7620\n",
      "Epoch 110/110\n",
      "32/31 [==============================] - 5s 147ms/step - loss: 0.0203 - acc: 0.9930 - val_loss: 3.3579 - val_acc: 0.7337\n"
     ]
    },
    {
     "data": {
      "text/plain": [
       "<tensorflow.python.keras.callbacks.History at 0x1e3a0c28128>"
      ]
     },
     "execution_count": 10,
     "metadata": {},
     "output_type": "execute_result"
    }
   ],
   "source": [
    "cnn.fit_generator(x_train, steps_per_epoch = 993/32, epochs = 110, validation_data = x_test, validation_steps = 353/32)"
   ]
  },
  {
   "cell_type": "code",
   "execution_count": 11,
   "metadata": {},
   "outputs": [],
   "source": [
    "cnn.save(\"project_model.h5\")"
   ]
  }
 ],
 "metadata": {
  "kernelspec": {
   "display_name": "Python 3",
   "language": "python",
   "name": "python3"
  },
  "language_info": {
   "codemirror_mode": {
    "name": "ipython",
    "version": 3
   },
   "file_extension": ".py",
   "mimetype": "text/x-python",
   "name": "python",
   "nbconvert_exporter": "python",
   "pygments_lexer": "ipython3",
   "version": "3.7.3"
  }
 },
 "nbformat": 4,
 "nbformat_minor": 2
}
